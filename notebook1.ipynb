{
 "cells": [
  {
   "cell_type": "code",
   "execution_count": 1,
   "metadata": {},
   "outputs": [
    {
     "name": "stdout",
     "output_type": "stream",
     "text": [
      "-0.012698811612720498 2.0175717220479927\n",
      "0.3219\n",
      "-0.048235583991752075 1.9832481530695045\n",
      "0.30746666666666667\n",
      "-0.011093552796643917 2.0096988381078407\n",
      "0.3159666666666667\n",
      "0.04591371991161455 1.9865486466784097\n",
      "0.3060333333333333\n",
      "0.023753305575108647 1.9626846323393472\n",
      "0.29783333333333334\n",
      "0.003989478861038721 1.9635988304669256\n",
      "0.29600000000000004\n"
     ]
    }
   ],
   "source": [
    "import numpy as np\n",
    "\n",
    "popsize = 1000\n",
    "topk = 100\n",
    "bound = 2\n",
    "\n",
    "mean = np.zeros((10, 3))\n",
    "std = np.ones((10, 3)) * bound\n",
    "samples = np.random.normal(mean, std, size=(popsize,) + mean.shape)\n",
    "print(samples.mean(), samples.std())\n",
    "print((samples > bound).mean() + (samples < -bound).mean())\n",
    "\n",
    "for _ in range(5):\n",
    "    mean, std = samples[-topk:].mean(axis=0), samples[-topk:].std(axis=0)\n",
    "    samples = np.random.normal(mean, std, size=(popsize,) + mean.shape)\n",
    "    print(samples.mean(), samples.std())\n",
    "    print((samples > bound).mean() + (samples < -bound).mean())"
   ]
  },
  {
   "cell_type": "code",
   "execution_count": 2,
   "metadata": {},
   "outputs": [
    {
     "name": "stdout",
     "output_type": "stream",
     "text": [
      "-0.002284034663865081 1.075447398135008\n",
      "0.0\n",
      "-0.01168649058133949 0.9161742449388559\n",
      "0.0\n",
      "-0.025480739431143592 0.8432650623200483\n",
      "0.0\n",
      "-0.031781099405854316 0.7880301631477724\n",
      "0.0\n",
      "-0.04644198228917389 0.7533853808450128\n",
      "0.0\n",
      "-0.060879172605049034 0.7198875670673804\n",
      "0.0\n",
      "-0.05878211481772885 0.690529267162271\n",
      "0.0\n",
      "-0.02542974067657797 0.6770091040034512\n",
      "0.0\n",
      "-0.03771085949231024 0.6669187610703748\n",
      "0.0\n",
      "-0.04832965629440858 0.6518301940731224\n",
      "0.0\n",
      "-0.027227304827592835 0.6399150749603909\n",
      "0.0\n"
     ]
    }
   ],
   "source": [
    "import scipy.stats\n",
    "\n",
    "mean = np.zeros((10, 3))\n",
    "std = np.ones((10, 3)) * bound\n",
    "\n",
    "samples = scipy.stats.truncnorm((-bound - mean) / std, \n",
    "                                (bound - mean) / std, \n",
    "                                mean, std).rvs(size=(popsize,) + mean.shape)\n",
    "print(samples.mean(), samples.std())\n",
    "print((samples > bound).mean() + (samples < -bound).mean())\n",
    "\n",
    "for _ in range(10):\n",
    "    mean, std = samples[-topk:].mean(axis=0), samples[-topk:].std(axis=0)\n",
    "    samples = scipy.stats.truncnorm((-bound - mean) / std, \n",
    "                                (bound - mean) / std, \n",
    "                                mean, std).rvs(size=(popsize,) + mean.shape)\n",
    "    print(samples.mean(), samples.std())\n",
    "    print((samples > bound).mean() + (samples < -bound).mean())"
   ]
  },
  {
   "cell_type": "code",
   "execution_count": 3,
   "metadata": {},
   "outputs": [
    {
     "name": "stdout",
     "output_type": "stream",
     "text": [
      "0.013724742403424417 1.4336871290639357\n",
      "0.0\n",
      "0.03789180550053158 1.228546611549754\n",
      "0.0\n",
      "0.04439782655131503 1.1122215268646112\n",
      "0.0\n",
      "0.06185329067379087 1.0467626504167513\n",
      "0.0\n",
      "0.048976384653464614 0.9836261804029001\n",
      "0.0\n",
      "0.0420214789363215 0.9392066314962609\n",
      "0.0\n"
     ]
    }
   ],
   "source": [
    "mean = np.zeros((10, 3))\n",
    "std = np.ones((10, 3)) * bound\n",
    "samples = np.random.normal(mean, std, size=(popsize,) + mean.shape).clip(-bound, bound)\n",
    "print(samples.mean(), samples.std())\n",
    "print((samples > bound).mean() + (samples < -bound).mean())\n",
    "\n",
    "for _ in range(5):\n",
    "    mean, std = samples[-topk:].mean(axis=0), samples[-topk:].std(axis=0)\n",
    "    samples = np.random.normal(mean, std, size=(popsize,) + mean.shape).clip(-bound, bound)\n",
    "    print(samples.mean(), samples.std())\n",
    "    print((samples > bound).mean() + (samples < -bound).mean())"
   ]
  }
 ],
 "metadata": {
  "kernelspec": {
   "display_name": "Python (handful-of-trials-pytorch)",
   "language": "python",
   "name": "handful-of-trials-pytorch"
  },
  "language_info": {
   "codemirror_mode": {
    "name": "ipython",
    "version": 3
   },
   "file_extension": ".py",
   "mimetype": "text/x-python",
   "name": "python",
   "nbconvert_exporter": "python",
   "pygments_lexer": "ipython3",
   "version": "3.6.8"
  }
 },
 "nbformat": 4,
 "nbformat_minor": 2
}
