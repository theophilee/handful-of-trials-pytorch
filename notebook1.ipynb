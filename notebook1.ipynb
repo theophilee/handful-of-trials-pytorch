{
 "cells": [
  {
   "cell_type": "code",
   "execution_count": 1,
   "metadata": {},
   "outputs": [
    {
     "name": "stdout",
     "output_type": "stream",
     "text": [
      "-0.002011729192876424 1.9847617877509534\n",
      "0.315\n",
      "0.0028125230112555828 1.9791247164675\n",
      "0.30816666666666664\n",
      "0.023649859503424627 1.9453237873533646\n",
      "0.30113333333333336\n",
      "-0.022127358184831417 1.9365208967507723\n",
      "0.29333333333333333\n",
      "-0.002482750670121244 1.9165677398271646\n",
      "0.28783333333333333\n",
      "0.018938910547812524 1.9166662660368088\n",
      "0.28600000000000003\n"
     ]
    }
   ],
   "source": [
    "import numpy as np\n",
    "\n",
    "popsize = 1000\n",
    "topk = 100\n",
    "bound = 2\n",
    "\n",
    "mean = np.zeros((10, 3))\n",
    "std = np.ones((10, 3)) * bound\n",
    "samples = np.random.normal(mean, std, size=(popsize,) + mean.shape)\n",
    "print(samples.mean(), samples.std())\n",
    "print((samples > bound).mean() + (samples < -bound).mean())\n",
    "\n",
    "for _ in range(5):\n",
    "    mean, std = samples[-topk:].mean(axis=0), samples[-topk:].std(axis=0)\n",
    "    samples = np.random.normal(mean, std, size=(popsize,) + mean.shape)\n",
    "    print(samples.mean(), samples.std())\n",
    "    print((samples > bound).mean() + (samples < -bound).mean())"
   ]
  },
  {
   "cell_type": "code",
   "execution_count": 2,
   "metadata": {},
   "outputs": [
    {
     "name": "stdout",
     "output_type": "stream",
     "text": [
      "0.006254809306866628 1.0827786980403977\n",
      "0.0\n",
      "0.00808239385460127 0.9135740385624651\n",
      "0.0\n",
      "0.0005368144221334527 0.831022966644141\n",
      "0.0\n",
      "0.018324749692543402 0.7790598562154013\n",
      "0.0\n",
      "0.0088949848387707 0.7483633757896649\n",
      "0.0\n",
      "0.0039606050691682205 0.713387887633006\n",
      "0.0\n",
      "0.0006220704844383039 0.6810600310953139\n",
      "0.0\n",
      "0.009152087078826015 0.6687395180406672\n",
      "0.0\n",
      "0.014110165583164939 0.648481364353364\n",
      "0.0\n",
      "-0.002041794190148655 0.6376665307509857\n",
      "0.0\n",
      "0.005585927803129978 0.6361277571632751\n",
      "0.0\n"
     ]
    }
   ],
   "source": [
    "import scipy.stats\n",
    "\n",
    "mean = np.zeros((10, 3))\n",
    "std = np.ones((10, 3)) * bound\n",
    "\n",
    "samples = scipy.stats.truncnorm((-bound - mean) / std, \n",
    "                                (bound - mean) / std, \n",
    "                                mean, std).rvs(size=(popsize,) + mean.shape)\n",
    "print(samples.mean(), samples.std())\n",
    "print((samples > bound).mean() + (samples < -bound).mean())\n",
    "\n",
    "for _ in range(10):\n",
    "    mean, std = samples[-topk:].mean(axis=0), samples[-topk:].std(axis=0)\n",
    "    samples = scipy.stats.truncnorm((-bound - mean) / std, \n",
    "                                (bound - mean) / std, \n",
    "                                mean, std).rvs(size=(popsize,) + mean.shape)\n",
    "    print(samples.mean(), samples.std())\n",
    "    print((samples > bound).mean() + (samples < -bound).mean())"
   ]
  },
  {
   "cell_type": "code",
   "execution_count": 3,
   "metadata": {},
   "outputs": [
    {
     "name": "stdout",
     "output_type": "stream",
     "text": [
      "-0.009920115269466907 1.434870086088203\n",
      "0.0\n",
      "-0.007597233519421834 1.2239170561289665\n",
      "0.0\n",
      "-0.005313049134572491 1.1001699833109548\n",
      "0.0\n",
      "-0.024918168067514675 1.0292057721031243\n",
      "0.0\n",
      "-0.004227292394861002 0.9674885542569002\n",
      "0.0\n",
      "0.009466126850856335 0.918937695016219\n",
      "0.0\n"
     ]
    }
   ],
   "source": [
    "mean = np.zeros((10, 3))\n",
    "std = np.ones((10, 3)) * bound\n",
    "samples = np.random.normal(mean, std, size=(popsize,) + mean.shape).clip(-bound, bound)\n",
    "print(samples.mean(), samples.std())\n",
    "print((samples > bound).mean() + (samples < -bound).mean())\n",
    "\n",
    "for _ in range(5):\n",
    "    mean, std = samples[-topk:].mean(axis=0), samples[-topk:].std(axis=0)\n",
    "    samples = np.random.normal(mean, std, size=(popsize,) + mean.shape).clip(-bound, bound)\n",
    "    print(samples.mean(), samples.std())\n",
    "    print((samples > bound).mean() + (samples < -bound).mean())"
   ]
  }
 ],
 "metadata": {
  "kernelspec": {
   "display_name": "Python (dpi-global)",
   "language": "python",
   "name": "dpi-global"
  },
  "language_info": {
   "codemirror_mode": {
    "name": "ipython",
    "version": 3
   },
   "file_extension": ".py",
   "mimetype": "text/x-python",
   "name": "python",
   "nbconvert_exporter": "python",
   "pygments_lexer": "ipython3",
   "version": "3.7.3"
  }
 },
 "nbformat": 4,
 "nbformat_minor": 2
}
