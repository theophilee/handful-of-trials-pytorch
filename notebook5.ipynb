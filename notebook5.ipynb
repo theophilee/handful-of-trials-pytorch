{
 "cells": [
  {
   "cell_type": "code",
   "execution_count": 1,
   "metadata": {},
   "outputs": [],
   "source": [
    "import env\n",
    "from config import get_config\n",
    "import numpy as np\n",
    "np.set_printoptions(precision=3)\n",
    "np.set_printoptions(suppress=True)"
   ]
  },
  {
   "cell_type": "code",
   "execution_count": 2,
   "metadata": {},
   "outputs": [
    {
     "name": "stdout",
     "output_type": "stream",
     "text": [
      "(1, 251, 18) (1, 250, 6)\n",
      "-15.692385666406913 595.5932682777287 25.666054171682344 87.68706074610564\n",
      "-1.0 1.0 0.06461610969896771 0.785832801546424\n",
      "[426.42    0.282 348.908  -0.123   0.247   0.321   0.689   0.511   0.503\n",
      "  13.618   4.024  15.912   9.897   0.828   4.314  -1.533  -3.147   0.29 ]\n"
     ]
    }
   ],
   "source": [
    "env_name = \"MyHalfCheetah-v2\"\n",
    "env_str = \"half_cheetah\"\n",
    "cfg = get_config(env_str)\n",
    "env = cfg.exp_cfg.env\n",
    "\n",
    "O = np.load('save/mpc_gym_true_dynamics_cmd_line/%s/obs.npy' % env_name)\n",
    "A = np.load('save/mpc_gym_true_dynamics_cmd_line/%s/act.npy' % env_name)\n",
    "print(O.shape, A.shape)\n",
    "print(O.min(), O.max(), O.mean(), O.std())\n",
    "print(A.min(), A.max(), A.mean(), A.std())\n",
    "\"\"\"\n",
    "State-Space (name/joint/parameter):\n",
    "- rootx     slider      position (m)\n",
    "- rootz     slider      position (m)\n",
    "- rooty     hinge       angle (rad)\n",
    "- bthigh    hinge       angle (rad)\n",
    "- bshin     hinge       angle (rad)\n",
    "- bfoot     hinge       angle (rad)\n",
    "- fthigh    hinge       angle (rad)\n",
    "- fshin     hinge       angle (rad)\n",
    "- ffoot     hinge       angle (rad)\n",
    "- rootx     slider      velocity (m/s)\n",
    "- rootz     slider      velocity (m/s)\n",
    "- rooty     hinge       angular velocity (rad/s)\n",
    "- bthigh    hinge       angular velocity (rad/s)\n",
    "- bshin     hinge       angular velocity (rad/s)\n",
    "- bfoot     hinge       angular velocity (rad/s)\n",
    "- fthigh    hinge       angular velocity (rad/s)\n",
    "- fshin     hinge       angular velocity (rad/s)\n",
    "- ffoot     hinge       angular velocity (rad/s)\n",
    "\"\"\"\n",
    "print(O[0, 200])"
   ]
  },
  {
   "cell_type": "code",
   "execution_count": 3,
   "metadata": {},
   "outputs": [
    {
     "name": "stdout",
     "output_type": "stream",
     "text": [
      "(1, 112, 10) (1, 111, 2)\n",
      "-5.514737318787288 9.329978103762027 0.6258442877931696 2.2455863791749824\n",
      "-1.0 1.0 -0.0668386606999499 0.7928093640809623\n",
      "[ 7.51   2.844  0.249  0.907 -0.343  0.11   1.542 -1.862  0.647  4.344]\n"
     ]
    }
   ],
   "source": [
    "env_name = \"MySwimmer-v2\"\n",
    "env_str = \"swimmer\"\n",
    "cfg = get_config(env_str)\n",
    "env = cfg.exp_cfg.env\n",
    "\n",
    "O = np.load('save/mpc_gym_true_dynamics_cmd_line/%s/obs.npy' % env_name)\n",
    "A = np.load('save/mpc_gym_true_dynamics_cmd_line/%s/act.npy' % env_name)\n",
    "print(O.shape, A.shape)\n",
    "print(O.min(), O.max(), O.mean(), O.std())\n",
    "print(A.min(), A.max(), A.mean(), A.std())\n",
    "print(O[0, 100])"
   ]
  },
  {
   "cell_type": "code",
   "execution_count": 5,
   "metadata": {},
   "outputs": [
    {
     "name": "stdout",
     "output_type": "stream",
     "text": [
      "(1, 51, 4) (1, 50, 1)\n",
      "-8.708640089665579 6.490824382954863 -0.7932219899064549 1.739357953252251\n",
      "-3.0 3.0 -0.004043488961000658 1.0209531782976204\n",
      "[-0.006 -3.141  0.003 -0.039]\n"
     ]
    }
   ],
   "source": [
    "env_name = \"MyCartpole-v0\"\n",
    "env_str = \"swimmer\"\n",
    "cfg = get_config(env_str)\n",
    "env = cfg.exp_cfg.env\n",
    "\n",
    "O = np.load('save/mpc_gym_true_dynamics_cmd_line/%s/obs.npy' % env_name)\n",
    "A = np.load('save/mpc_gym_true_dynamics_cmd_line/%s/act.npy' % env_name)\n",
    "print(O.shape, A.shape)\n",
    "print(O.min(), O.max(), O.mean(), O.std())\n",
    "print(A.min(), A.max(), A.mean(), A.std())\n",
    "print(O[0, 30])"
   ]
  }
 ],
 "metadata": {
  "kernelspec": {
   "display_name": "Python (dpi-global)",
   "language": "python",
   "name": "dpi-global"
  },
  "language_info": {
   "codemirror_mode": {
    "name": "ipython",
    "version": 3
   },
   "file_extension": ".py",
   "mimetype": "text/x-python",
   "name": "python",
   "nbconvert_exporter": "python",
   "pygments_lexer": "ipython3",
   "version": "3.7.3"
  }
 },
 "nbformat": 4,
 "nbformat_minor": 2
}
