{
 "cells": [
  {
   "cell_type": "code",
   "execution_count": 53,
   "metadata": {},
   "outputs": [
    {
     "name": "stdout",
     "output_type": "stream",
     "text": [
      "0\n",
      "([tensor([[96, 97, 98, 99],\n",
      "        [60, 61, 62, 63],\n",
      "        [76, 77, 78, 79]]), tensor([[24],\n",
      "        [15],\n",
      "        [19]])], [tensor([[20, 21, 22, 23],\n",
      "        [84, 85, 86, 87],\n",
      "        [52, 53, 54, 55]]), tensor([[ 5],\n",
      "        [21],\n",
      "        [13]])])\n",
      "[torch.Size([2, 3, 4]), torch.Size([2, 3, 1])]\n"
     ]
    }
   ],
   "source": [
    "import torch\n",
    "from torch.utils.data import TensorDataset, DataLoader\n",
    "\n",
    "batch_size = 3\n",
    "num_nets = 2\n",
    "X = torch.arange(100).view(25, 4)\n",
    "Y = torch.arange(25).view(25, 1)\n",
    "\n",
    "dataset = TensorDataset(X, Y)\n",
    "loaders = [DataLoader(dataset, batch_size=batch_size, shuffle=True) \n",
    "           for _ in range(num_nets)]\n",
    "\n",
    "for i, x in enumerate(zip(*loaders)):\n",
    "    print(i)\n",
    "    print(x)\n",
    "    print([torch.stack(u).shape for u in zip(*x)])\n",
    "    break"
   ]
  }
 ],
 "metadata": {
  "kernelspec": {
   "display_name": "Python (dpi-global)",
   "language": "python",
   "name": "dpi-global"
  },
  "language_info": {
   "codemirror_mode": {
    "name": "ipython",
    "version": 3
   },
   "file_extension": ".py",
   "mimetype": "text/x-python",
   "name": "python",
   "nbconvert_exporter": "python",
   "pygments_lexer": "ipython3",
   "version": "3.7.3"
  }
 },
 "nbformat": 4,
 "nbformat_minor": 2
}
