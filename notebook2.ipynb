{
 "cells": [
  {
   "cell_type": "code",
   "execution_count": 1,
   "metadata": {},
   "outputs": [],
   "source": [
    "import env\n",
    "import gym"
   ]
  },
  {
   "cell_type": "code",
   "execution_count": 2,
   "metadata": {},
   "outputs": [
    {
     "data": {
      "text/plain": [
       "(Box(17,), Box(6,), 1.0)"
      ]
     },
     "execution_count": 2,
     "metadata": {},
     "output_type": "execute_result"
    }
   ],
   "source": [
    "env = gym.make(\"HalfCheetah-v3\")\n",
    "env.reset()\n",
    "env.observation_space, env.action_space, env.action_space.high[0]"
   ]
  },
  {
   "cell_type": "code",
   "execution_count": 3,
   "metadata": {},
   "outputs": [
    {
     "name": "stdout",
     "output_type": "stream",
     "text": [
      "[-0.05157422 -0.07229409  0.04732445  0.03423117  0.02745461  0.02088762\n",
      "  0.01229051  0.01226345 -0.15249629 -0.50142511  0.31197935 -1.37068661\n",
      " -1.10238801 -1.43369596 -1.02209985 -0.31540734 -0.22823283]\n",
      "[-0.07948173 -0.02690841  0.003898    0.05466821 -0.02995741 -0.02787067\n",
      " -0.01443779 -0.00458024  0.00297156 -0.64831046  1.14150707 -0.68117547\n",
      " -0.04468522 -0.98971147 -0.80872504 -0.55791506 -0.36252335]\n",
      "[-5.39550000e-02 -5.38578077e-18  1.76045363e-17  1.49309631e-17\n",
      "  2.70510182e-18  5.81091429e-18 -1.82322322e-18 -4.87313118e-18\n",
      "  1.22345860e-17 -9.81000000e-01 -6.82464261e-17  1.82539272e-16\n",
      "  1.01762784e-16  4.86312127e-17  3.75483974e-18 -1.36498238e-18\n",
      " -4.74107886e-17]\n",
      "[-0.05157422 -0.07229409  0.04732445  0.03423117  0.02745461  0.02088762\n",
      "  0.01229051  0.01226345 -0.15249629 -0.50142511  0.31197935 -1.37068661\n",
      " -1.10238801 -1.43369596 -1.02209985 -0.31540734 -0.22823283]\n"
     ]
    }
   ],
   "source": [
    "import copy\n",
    "\n",
    "env = gym.make(\"HalfCheetah-v3\")\n",
    "env.reset()\n",
    "\n",
    "env1 = copy.copy(env)\n",
    "\n",
    "env2 = copy.deepcopy(env)\n",
    "\n",
    "env3 = gym.make(\"HalfCheetah-v3\")\n",
    "env3.reset()\n",
    "env3.sim.set_state(env.sim.get_state())\n",
    "\n",
    "print(env.step(0)[0])\n",
    "print(env1.step(0)[0])\n",
    "print(env2.step(0)[0])\n",
    "print(env3.step(0)[0])"
   ]
  }
 ],
 "metadata": {
  "kernelspec": {
   "display_name": "Python (handful-of-trials-pytorch)",
   "language": "python",
   "name": "handful-of-trials-pytorch"
  },
  "language_info": {
   "codemirror_mode": {
    "name": "ipython",
    "version": 3
   },
   "file_extension": ".py",
   "mimetype": "text/x-python",
   "name": "python",
   "nbconvert_exporter": "python",
   "pygments_lexer": "ipython3",
   "version": "3.6.8"
  }
 },
 "nbformat": 4,
 "nbformat_minor": 2
}
