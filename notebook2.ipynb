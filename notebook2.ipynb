{
 "cells": [
  {
   "cell_type": "code",
   "execution_count": 1,
   "metadata": {},
   "outputs": [],
   "source": [
    "import env\n",
    "from config import get_config\n",
    "import numpy as np\n",
    "np.set_printoptions(precision=3)\n",
    "np.set_printoptions(suppress=True)"
   ]
  },
  {
   "cell_type": "code",
   "execution_count": 2,
   "metadata": {},
   "outputs": [
    {
     "name": "stdout",
     "output_type": "stream",
     "text": [
      "(20, 251, 18) (20, 250, 6)\n",
      "-23.89367979825488 893.6810099937367 29.436127083571414 101.33965305942476\n",
      "-1.0 1.0 0.05576187383986439 0.7981391264502806\n",
      "[554.594   0.349 415.918  -0.043   0.018   0.216  -0.704   0.458   0.604\n",
      "  23.34   -0.079  10.605  -6.137  -0.828  -0.941  13.54    5.892  11.392]\n"
     ]
    }
   ],
   "source": [
    "env_name = \"MyHalfCheetah-v2\"\n",
    "env_str = \"half_cheetah\"\n",
    "cfg = get_config(env_str)\n",
    "env = cfg.exp_cfg.env\n",
    "\n",
    "O = np.load('save/expert_demonstrations/%s/obs.npy' % env_str)\n",
    "A = np.load('save/expert_demonstrations/%s/act.npy' % env_str)\n",
    "print(O.shape, A.shape)\n",
    "print(O.min(), O.max(), O.mean(), O.std())\n",
    "print(A.min(), A.max(), A.mean(), A.std())\n",
    "\"\"\"\n",
    "State-Space (name/joint/parameter):\n",
    "- rootx     slider      position (m)\n",
    "- rootz     slider      position (m)\n",
    "- rooty     hinge       angle (rad)\n",
    "- bthigh    hinge       angle (rad)\n",
    "- bshin     hinge       angle (rad)\n",
    "- bfoot     hinge       angle (rad)\n",
    "- fthigh    hinge       angle (rad)\n",
    "- fshin     hinge       angle (rad)\n",
    "- ffoot     hinge       angle (rad)\n",
    "- rootx     slider      velocity (m/s)\n",
    "- rootz     slider      velocity (m/s)\n",
    "- rooty     hinge       angular velocity (rad/s)\n",
    "- bthigh    hinge       angular velocity (rad/s)\n",
    "- bshin     hinge       angular velocity (rad/s)\n",
    "- bfoot     hinge       angular velocity (rad/s)\n",
    "- fthigh    hinge       angular velocity (rad/s)\n",
    "- fshin     hinge       angular velocity (rad/s)\n",
    "- ffoot     hinge       angular velocity (rad/s)\n",
    "\"\"\"\n",
    "print(O[0, 200])"
   ]
  },
  {
   "cell_type": "code",
   "execution_count": 3,
   "metadata": {},
   "outputs": [
    {
     "name": "stdout",
     "output_type": "stream",
     "text": [
      "(10, 112, 10) (10, 111, 2)\n",
      "-5.977867925604655 9.726793612191898 0.4648059201985191 2.366158531725691\n",
      "-1.0 1.0 -0.0022904544834106318 0.8002182222025644\n",
      "[ 7.238 -4.088  0.118 -0.04  -1.544  0.441  1.809 -2.097  2.956  1.551]\n"
     ]
    }
   ],
   "source": [
    "env_name = \"MySwimmer-v2\"\n",
    "env_str = \"swimmer\"\n",
    "cfg = get_config(env_str)\n",
    "env = cfg.exp_cfg.env\n",
    "\n",
    "O = np.load('save/expert_demonstrations/%s/obs.npy' % env_name)\n",
    "A = np.load('save/expert_demonstrations/%s/act.npy' % env_name)\n",
    "print(O.shape, A.shape)\n",
    "print(O.min(), O.max(), O.mean(), O.std())\n",
    "print(A.min(), A.max(), A.mean(), A.std())\n",
    "print(O[0, 100])"
   ]
  },
  {
   "cell_type": "code",
   "execution_count": 4,
   "metadata": {},
   "outputs": [
    {
     "name": "stdout",
     "output_type": "stream",
     "text": [
      "(10, 112, 10) (10, 111, 2)\n",
      "-5.977867925604655 9.726793612191898 0.4648059201985191 2.366158531725691\n",
      "-1.0 1.0 -0.0022904544834106318 0.8002182222025644\n",
      "[ 2.997 -0.566 -1.607  1.143  0.445 -0.547 -0.42   0.845 -1.709  1.413]\n"
     ]
    }
   ],
   "source": [
    "env_name = \"MyCartpole-v0\"\n",
    "env_str = \"swimmer\"\n",
    "cfg = get_config(env_str)\n",
    "env = cfg.exp_cfg.env\n",
    "\n",
    "O = np.load('save/expert_demonstrations/%s/obs.npy' % env_str)\n",
    "A = np.load('save/expert_demonstrations/%s/act.npy' % env_str)\n",
    "print(O.shape, A.shape)\n",
    "print(O.min(), O.max(), O.mean(), O.std())\n",
    "print(A.min(), A.max(), A.mean(), A.std())\n",
    "print(O[0, 30])"
   ]
  },
  {
   "cell_type": "code",
   "execution_count": 23,
   "metadata": {},
   "outputs": [
    {
     "name": "stdout",
     "output_type": "stream",
     "text": [
      "Box(23,) Box(7,)\n",
      "[ 0.     0.     0.     0.     0.     0.     0.    -0.002  0.     0.005\n",
      "  0.003 -0.002 -0.003  0.003  0.821 -0.6    0.     0.409 -0.223 -0.275\n",
      "  0.45  -0.05  -0.323]\n",
      "\n",
      "[0 0]\n",
      "[ 0.821 -0.6    0.   ]\n",
      "[ 0.409 -0.223 -0.275]\n",
      "[ 0.45  -0.05  -0.323]\n",
      "\n",
      "[ 0.066  0.239 -0.428 -2.079  1.043  0.001  1.106  0.273 -0.316 -2.066\n",
      " -0.743 -0.153 -0.036 -2.752  0.393 -0.463  0.192  0.409 -0.223 -0.275\n",
      "  0.45  -0.05  -0.323]\n"
     ]
    }
   ],
   "source": [
    "import gym\n",
    "\n",
    "env_name = \"MyPusher-v2\"\n",
    "env = gym.make(env_name)\n",
    "print(env.observation_space, env.action_space)\n",
    "print(env.reset())\n",
    "print()\n",
    "print(env.goal_pos)\n",
    "print(env.get_body_com('tips_arm')) # 14:17\n",
    "print(env.get_body_com(\"object\"))   # 17:20\n",
    "print(env.get_body_com('goal'))     # 20:23\n",
    "print()\n",
    "for _ in range(20):\n",
    "    obs, _, _, _ = env.step(env.action_space.sample())\n",
    "print(obs)"
   ]
  }
 ],
 "metadata": {
  "kernelspec": {
   "display_name": "Python (dpi-global)",
   "language": "python",
   "name": "dpi-global"
  },
  "language_info": {
   "codemirror_mode": {
    "name": "ipython",
    "version": 3
   },
   "file_extension": ".py",
   "mimetype": "text/x-python",
   "name": "python",
   "nbconvert_exporter": "python",
   "pygments_lexer": "ipython3",
   "version": "3.7.3"
  }
 },
 "nbformat": 4,
 "nbformat_minor": 2
}
