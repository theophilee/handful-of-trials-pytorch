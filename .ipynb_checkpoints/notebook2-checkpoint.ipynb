{
 "cells": [
  {
   "cell_type": "code",
   "execution_count": 1,
   "metadata": {},
   "outputs": [],
   "source": [
    "import env\n",
    "from config import get_config\n",
    "import numpy as np\n",
    "np.set_printoptions(precision=3)\n",
    "np.set_printoptions(suppress=True)"
   ]
  },
  {
   "cell_type": "code",
   "execution_count": 2,
   "metadata": {},
   "outputs": [
    {
     "name": "stdout",
     "output_type": "stream",
     "text": [
      "(10, 251, 18) (10, 250, 6)\n",
      "-17.81324721891102 743.643107217635 27.302207677283963 93.83773237504153\n",
      "-1.0 1.0 0.05811394256070287 0.7836239857847269\n",
      "[448.578   0.736 324.273   0.585   0.52   -0.438  -0.278  -0.533  -0.235\n",
      "  14.895   3.102   9.02   -4.575  -1.763  -0.872   5.8     8.199   2.9  ]\n"
     ]
    }
   ],
   "source": [
    "env_name = \"MyHalfCheetah-v2\"\n",
    "env_str = \"half_cheetah\"\n",
    "cfg = get_config(env_str)\n",
    "env = cfg.exp_cfg.env\n",
    "\n",
    "O = np.load('save/mpc_gym_true_dynamics_cmd_line/%s/obs.npy' % env_name)\n",
    "A = np.load('save/mpc_gym_true_dynamics_cmd_line/%s/act.npy' % env_name)\n",
    "print(O.shape, A.shape)\n",
    "print(O.min(), O.max(), O.mean(), O.std())\n",
    "print(A.min(), A.max(), A.mean(), A.std())\n",
    "\"\"\"\n",
    "State-Space (name/joint/parameter):\n",
    "- rootx     slider      position (m)\n",
    "- rootz     slider      position (m)\n",
    "- rooty     hinge       angle (rad)\n",
    "- bthigh    hinge       angle (rad)\n",
    "- bshin     hinge       angle (rad)\n",
    "- bfoot     hinge       angle (rad)\n",
    "- fthigh    hinge       angle (rad)\n",
    "- fshin     hinge       angle (rad)\n",
    "- ffoot     hinge       angle (rad)\n",
    "- rootx     slider      velocity (m/s)\n",
    "- rootz     slider      velocity (m/s)\n",
    "- rooty     hinge       angular velocity (rad/s)\n",
    "- bthigh    hinge       angular velocity (rad/s)\n",
    "- bshin     hinge       angular velocity (rad/s)\n",
    "- bfoot     hinge       angular velocity (rad/s)\n",
    "- fthigh    hinge       angular velocity (rad/s)\n",
    "- fshin     hinge       angular velocity (rad/s)\n",
    "- ffoot     hinge       angular velocity (rad/s)\n",
    "\"\"\"\n",
    "print(O[0, 200])"
   ]
  },
  {
   "cell_type": "code",
   "execution_count": 3,
   "metadata": {},
   "outputs": [
    {
     "name": "stdout",
     "output_type": "stream",
     "text": [
      "(10, 112, 10) (10, 111, 2)\n",
      "-5.977867925604655 9.726793612191898 0.4648059201985191 2.366158531725691\n",
      "-1.0 1.0 -0.0022904544834106318 0.8002182222025644\n",
      "[ 7.238 -4.088  0.118 -0.04  -1.544  0.441  1.809 -2.097  2.956  1.551]\n"
     ]
    }
   ],
   "source": [
    "env_name = \"MySwimmer-v2\"\n",
    "env_str = \"swimmer\"\n",
    "cfg = get_config(env_str)\n",
    "env = cfg.exp_cfg.env\n",
    "\n",
    "O = np.load('save/mpc_gym_true_dynamics_cmd_line/%s/obs.npy' % env_name)\n",
    "A = np.load('save/mpc_gym_true_dynamics_cmd_line/%s/act.npy' % env_name)\n",
    "print(O.shape, A.shape)\n",
    "print(O.min(), O.max(), O.mean(), O.std())\n",
    "print(A.min(), A.max(), A.mean(), A.std())\n",
    "print(O[0, 100])"
   ]
  },
  {
   "cell_type": "code",
   "execution_count": 4,
   "metadata": {},
   "outputs": [
    {
     "name": "stdout",
     "output_type": "stream",
     "text": [
      "(10, 51, 4) (10, 50, 1)\n",
      "-10.494429475837036 11.77005676253115 -0.16115197429940276 1.9265406681761197\n",
      "-3.0 3.0 -0.0024171345789793662 1.0019499719419773\n",
      "[ 0.005  3.161 -0.128  0.152]\n"
     ]
    }
   ],
   "source": [
    "env_name = \"MyCartpole-v0\"\n",
    "env_str = \"swimmer\"\n",
    "cfg = get_config(env_str)\n",
    "env = cfg.exp_cfg.env\n",
    "\n",
    "O = np.load('save/mpc_gym_true_dynamics_cmd_line/%s/obs.npy' % env_name)\n",
    "A = np.load('save/mpc_gym_true_dynamics_cmd_line/%s/act.npy' % env_name)\n",
    "print(O.shape, A.shape)\n",
    "print(O.min(), O.max(), O.mean(), O.std())\n",
    "print(A.min(), A.max(), A.mean(), A.std())\n",
    "print(O[0, 30])"
   ]
  }
 ],
 "metadata": {
  "kernelspec": {
   "display_name": "Python (dpi-global)",
   "language": "python",
   "name": "dpi-global"
  },
  "language_info": {
   "codemirror_mode": {
    "name": "ipython",
    "version": 3
   },
   "file_extension": ".py",
   "mimetype": "text/x-python",
   "name": "python",
   "nbconvert_exporter": "python",
   "pygments_lexer": "ipython3",
   "version": "3.7.3"
  }
 },
 "nbformat": 4,
 "nbformat_minor": 2
}
