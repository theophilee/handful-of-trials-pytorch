{
 "cells": [
  {
   "cell_type": "code",
   "execution_count": 1,
   "metadata": {},
   "outputs": [
    {
     "name": "stdout",
     "output_type": "stream",
     "text": [
      "8.328970127328905e-05 2.005809821110283\n",
      "0.3187\n",
      "0.05881391186766088 2.0017635478215636\n",
      "0.3159\n",
      "0.028503229692750886 2.0208854469665543\n",
      "0.31153333333333333\n",
      "0.05048258975787024 1.9968548073584274\n",
      "0.30566666666666664\n",
      "0.07336138793175907 1.9951499054165667\n",
      "0.3059\n",
      "0.053822429165255835 1.960000180879629\n",
      "0.2915\n"
     ]
    }
   ],
   "source": [
    "import numpy as np\n",
    "\n",
    "popsize = 1000\n",
    "topk = 100\n",
    "bound = 2\n",
    "\n",
    "mean = np.zeros((10, 3))\n",
    "std = np.ones((10, 3)) * bound\n",
    "samples = np.random.normal(mean, std, size=(popsize,) + mean.shape)\n",
    "print(samples.mean(), samples.std())\n",
    "print((samples > bound).mean() + (samples < -bound).mean())\n",
    "\n",
    "for _ in range(5):\n",
    "    mean, std = samples[-topk:].mean(axis=0), samples[-topk:].std(axis=0)\n",
    "    samples = np.random.normal(mean, std, size=(popsize,) + mean.shape)\n",
    "    print(samples.mean(), samples.std())\n",
    "    print((samples > bound).mean() + (samples < -bound).mean())"
   ]
  },
  {
   "cell_type": "code",
   "execution_count": 2,
   "metadata": {},
   "outputs": [
    {
     "name": "stdout",
     "output_type": "stream",
     "text": [
      "-0.009100119043927365 1.0834730607009397\n",
      "0.0\n",
      "-0.047283491332935065 0.9080630727893961\n",
      "0.0\n",
      "-0.054581194220090036 0.8218818265301356\n",
      "0.0\n",
      "-0.05107545101256751 0.7783825730535554\n",
      "0.0\n",
      "-0.014478767317836885 0.7420619867794876\n",
      "0.0\n",
      "-0.00950298263735779 0.7119607067364627\n",
      "0.0\n",
      "0.0038222109080530723 0.695636778969981\n",
      "0.0\n",
      "0.004275200521169753 0.6804924257339956\n",
      "0.0\n",
      "-0.0038920387129282082 0.6712238759828967\n",
      "0.0\n",
      "0.005542538692831752 0.6584747577324407\n",
      "0.0\n",
      "-0.011743822336605507 0.6434738245319591\n",
      "0.0\n"
     ]
    }
   ],
   "source": [
    "import scipy.stats\n",
    "\n",
    "mean = np.zeros((10, 3))\n",
    "std = np.ones((10, 3)) * bound\n",
    "\n",
    "samples = scipy.stats.truncnorm((-bound - mean) / std, \n",
    "                                (bound - mean) / std, \n",
    "                                mean, std).rvs(size=(popsize,) + mean.shape)\n",
    "print(samples.mean(), samples.std())\n",
    "print((samples > bound).mean() + (samples < -bound).mean())\n",
    "\n",
    "for _ in range(10):\n",
    "    mean, std = samples[-topk:].mean(axis=0), samples[-topk:].std(axis=0)\n",
    "    samples = scipy.stats.truncnorm((-bound - mean) / std, \n",
    "                                (bound - mean) / std, \n",
    "                                mean, std).rvs(size=(popsize,) + mean.shape)\n",
    "    print(samples.mean(), samples.std())\n",
    "    print((samples > bound).mean() + (samples < -bound).mean())"
   ]
  }
 ],
 "metadata": {
  "kernelspec": {
   "display_name": "Python (handful-of-trials-pytorch)",
   "language": "python",
   "name": "handful-of-trials-pytorch"
  },
  "language_info": {
   "codemirror_mode": {
    "name": "ipython",
    "version": 3
   },
   "file_extension": ".py",
   "mimetype": "text/x-python",
   "name": "python",
   "nbconvert_exporter": "python",
   "pygments_lexer": "ipython3",
   "version": "3.6.8"
  }
 },
 "nbformat": 4,
 "nbformat_minor": 2
}
