{
 "cells": [
  {
   "cell_type": "code",
   "execution_count": 28,
   "metadata": {},
   "outputs": [
    {
     "data": {
      "text/plain": [
       "tensor([[0, 1, 2],\n",
       "        [3, 4, 5]])"
      ]
     },
     "execution_count": 28,
     "metadata": {},
     "output_type": "execute_result"
    }
   ],
   "source": [
    "import torch\n",
    "\n",
    "x = torch.arange(6).view(2, 3)\n",
    "x"
   ]
  },
  {
   "cell_type": "code",
   "execution_count": 6,
   "metadata": {},
   "outputs": [
    {
     "data": {
      "text/plain": [
       "tensor([[0, 1, 2],\n",
       "        [3, 4, 5],\n",
       "        [0, 1, 2],\n",
       "        [3, 4, 5]])"
      ]
     },
     "execution_count": 6,
     "metadata": {},
     "output_type": "execute_result"
    }
   ],
   "source": [
    "x.repeat(2, 1)"
   ]
  },
  {
   "cell_type": "code",
   "execution_count": 3,
   "metadata": {},
   "outputs": [
    {
     "data": {
      "text/plain": [
       "tensor([[0, 1, 2],\n",
       "        [0, 1, 2],\n",
       "        [3, 4, 5],\n",
       "        [3, 4, 5]])"
      ]
     },
     "execution_count": 3,
     "metadata": {},
     "output_type": "execute_result"
    }
   ],
   "source": [
    "x.unsqueeze(1).expand(-1, 2, -1).contiguous().view(4, 3)"
   ]
  },
  {
   "cell_type": "code",
   "execution_count": 8,
   "metadata": {},
   "outputs": [
    {
     "data": {
      "text/plain": [
       "BoundedArraySpec(shape=(1,), dtype=dtype('float64'), name=None, minimum=[-1.], maximum=[1.])"
      ]
     },
     "execution_count": 8,
     "metadata": {},
     "output_type": "execute_result"
    }
   ],
   "source": [
    "from dm_control import suite\n",
    "import numpy as np\n",
    "\n",
    "env = suite.load(domain_name=\"cartpole\", task_name=\"swingup\")\n",
    "spec = env.action_spec()\n",
    "spec"
   ]
  },
  {
   "cell_type": "code",
   "execution_count": 29,
   "metadata": {},
   "outputs": [
    {
     "name": "stdout",
     "output_type": "stream",
     "text": [
      "OrderedDict([('position', array([ 0.00986964, -0.99994013, -0.01094207])), ('velocity', array([0.01310164, 0.01951717]))])\n",
      "[ 0.00986964 -0.99994013 -0.01094207]\n",
      "[0.01310164 0.01951717]\n"
     ]
    }
   ],
   "source": [
    "time_step = env.reset()\n",
    "print(time_step.observation)\n",
    "print(time_step.observation['position'])\n",
    "print(time_step.observation['velocity'])"
   ]
  },
  {
   "cell_type": "code",
   "execution_count": 36,
   "metadata": {},
   "outputs": [
    {
     "data": {
      "text/plain": [
       "0.08549384155498445"
      ]
     },
     "execution_count": 36,
     "metadata": {},
     "output_type": "execute_result"
    }
   ],
   "source": [
    "action = np.random.uniform(spec.minimum, spec.maximum, spec.shape)\n",
    "env._task.get_reward(env._physics)"
   ]
  },
  {
   "cell_type": "code",
   "execution_count": 39,
   "metadata": {},
   "outputs": [
    {
     "data": {
      "text/plain": [
       "OrderedDict([('position', array([ 1.4631864 , -0.73413682, -0.67900156])),\n",
       "             ('velocity', array([-0.4363628 , -0.15847509]))])"
      ]
     },
     "execution_count": 39,
     "metadata": {},
     "output_type": "execute_result"
    }
   ],
   "source": [
    "env._task.get_observation(env._physics)"
   ]
  },
  {
   "cell_type": "code",
   "execution_count": 90,
   "metadata": {},
   "outputs": [
    {
     "data": {
      "text/plain": [
       "OrderedDict([('position', array([ 1.80531322, -0.46391838,  0.88587795])),\n",
       "             ('velocity', array([-0.03001947, -1.68065862]))])"
      ]
     },
     "execution_count": 90,
     "metadata": {},
     "output_type": "execute_result"
    }
   ],
   "source": [
    "env._task.before_step(action, env._physics)\n",
    "env._physics.step()\n",
    "env._task.after_step(env._physics)\n",
    "env._task.get_observation(env._physics)"
   ]
  },
  {
   "cell_type": "code",
   "execution_count": 99,
   "metadata": {},
   "outputs": [
    {
     "name": "stdout",
     "output_type": "stream",
     "text": [
      "{'_contexts': Contexts(gl=<dm_control._render.pyopengl.egl_renderer.EGLContext object at 0x7fafda937fd0>, mujoco=<dm_control.mujoco.wrapper.core.MjrContext object at 0x7fafda937f98>),\n",
      " '_data': <dm_control.mujoco.wrapper.core.MjData object at 0x7fafda9968d0>,\n",
      " '_named': NamedIndexStructs(model=<dm_control.mujoco.index.make_struct_indexer.<locals>.StructIndexer object at 0x7faff4066e90>, data=<dm_control.mujoco.index.make_struct_indexer.<locals>.StructIndexer object at 0x7fafdaa7c310>),\n",
      " '_new_warnings': array([False, False, False, False, False, False, False, False]),\n",
      " '_warnings': array([0, 0, 0, 0, 0, 0, 0, 0], dtype=int32),\n",
      " '_warnings_before': array([0, 0, 0, 0, 0, 0, 0, 0], dtype=int32)}\n"
     ]
    }
   ],
   "source": [
    "from pprint import pprint\n",
    "\n",
    "pprint(vars(env._physics))"
   ]
  },
  {
   "cell_type": "code",
   "execution_count": 30,
   "metadata": {},
   "outputs": [],
   "source": [
    "while not time_step.last():\n",
    "    action = np.random.uniform(spec.minimum, spec.maximum, spec.shape)\n",
    "    time_step = env.step(action)"
   ]
  }
 ],
 "metadata": {
  "kernelspec": {
   "display_name": "Python (handful-of-trials-pytorch)",
   "language": "python",
   "name": "handful-of-trials-pytorch"
  },
  "language_info": {
   "codemirror_mode": {
    "name": "ipython",
    "version": 3
   },
   "file_extension": ".py",
   "mimetype": "text/x-python",
   "name": "python",
   "nbconvert_exporter": "python",
   "pygments_lexer": "ipython3",
   "version": "3.6.8"
  }
 },
 "nbformat": 4,
 "nbformat_minor": 2
}
